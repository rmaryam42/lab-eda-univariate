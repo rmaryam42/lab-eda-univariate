{
 "cells": [
  {
   "cell_type": "code",
   "execution_count": null,
   "id": "1f50f4e1",
   "metadata": {},
   "outputs": [],
   "source": [
    "import pandas as pd\n",
    "import seaborn as sns"
   ]
  },
  {
   "cell_type": "code",
   "execution_count": null,
   "id": "52220252",
   "metadata": {},
   "outputs": [],
   "source": [
    "df=pd.read_csv('/Users/f/Documents/Ironhack/lab-eda-univariate/amz_uk_price_prediction_dataset.csv')"
   ]
  },
  {
   "cell_type": "code",
   "execution_count": null,
   "id": "cb19b218",
   "metadata": {},
   "outputs": [],
   "source": [
    "df.shape"
   ]
  },
  {
   "cell_type": "code",
   "execution_count": null,
   "id": "fe112481",
   "metadata": {},
   "outputs": [],
   "source": [
    "df"
   ]
  },
  {
   "cell_type": "markdown",
   "id": "7b2016b4",
   "metadata": {},
   "source": [
    "#### What are the most popular product categories on Amazon UK, and how do they compare in terms of listing frequency?\n"
   ]
  },
  {
   "cell_type": "code",
   "execution_count": null,
   "id": "0220cd4e",
   "metadata": {},
   "outputs": [],
   "source": [
    "# Frequency table for 'category'\n",
    "frequency_table = df['category'].value_counts()\n",
    "\n",
    "# Calculating the proportion of each unique value in the 'category'\n",
    "proportion_table = df['category'].value_counts(normalize=True)\n",
    "\n",
    "frequency_table, proportion_table"
   ]
  },
  {
   "cell_type": "markdown",
   "id": "354b4e51",
   "metadata": {},
   "source": [
    "#### Which are the top 5 most listed product categories?"
   ]
  },
  {
   "cell_type": "code",
   "execution_count": null,
   "id": "e8535f9e",
   "metadata": {},
   "outputs": [],
   "source": [
    "df1 = df['category'].value_counts().sort_values(ascending=False)\n",
    "df1 = pd.DataFrame(df1)\n",
    "df1.head(5)"
   ]
  },
  {
   "cell_type": "markdown",
   "id": "1caf991f",
   "metadata": {},
   "source": [
    "#### Display the distribution of products across different categories using a bar chart. If you face problems understanding the chart, do it for a subset of top categories."
   ]
  },
  {
   "cell_type": "code",
   "execution_count": null,
   "id": "0105e3a5",
   "metadata": {},
   "outputs": [],
   "source": [
    "frequency_table = df['category'].value_counts().sort_values(ascending=False)\n",
    "frequency_table = pd.DataFrame({'category': frequency_table.index, 'count': frequency_table.values})\n",
    "\n",
    "# Plot the bar chart\n",
    "plt.figure(figsize=(10, 6))\n",
    "sns.barplot(x='category', y='count', data=frequency_table.head(5), palette='Set3')\n",
    "plt.xlabel('Category')\n",
    "plt.ylabel('Number of Products')\n",
    "plt.title('Distribution of Top 5 Products Categories')\n",
    "plt.xticks(rotation=45, ha='right')\n",
    "plt.tight_layout()\n",
    "plt.show()"
   ]
  },
  {
   "cell_type": "markdown",
   "id": "e453cb5d",
   "metadata": {},
   "source": [
    "#### For a subset of top categories, visualize their proportions using a pie chart. Does any category dominate the listings?"
   ]
  },
  {
   "cell_type": "code",
   "execution_count": null,
   "id": "2e009940",
   "metadata": {},
   "outputs": [],
   "source": [
    "import matplotlib.pyplot as plt\n",
    "\n",
    "# Calculate the top categories\n",
    "top_categories = df['category'].value_counts().head(5)\n",
    "\n",
    "# Plot the pie chart\n",
    "plt.figure(figsize=(8, 8))\n",
    "plt.pie(top_categories, labels=top_categories.index, autopct='%1.1f%%', startangle=140)\n",
    "plt.title('Proportions of Top Product Categories')\n",
    "plt.axis('equal')  # Equal aspect ratio ensures that pie is drawn as a circle.\n",
    "plt.show()\n"
   ]
  },
  {
   "cell_type": "markdown",
   "id": "2223c7aa",
   "metadata": {},
   "source": [
    "#### Calculate the mean, median, and mode for the price of products."
   ]
  },
  {
   "cell_type": "markdown",
   "id": "90d2d3a2",
   "metadata": {},
   "source": [
    "#### Measures of Centrality\n",
    "#### What's the average price point of products listed? How does this compare with the most common price point (mode)?"
   ]
  },
  {
   "cell_type": "code",
   "execution_count": null,
   "id": "c9fbe1d6",
   "metadata": {},
   "outputs": [],
   "source": [
    "# Calculate the mean (average) price\n",
    "average_price = df['price'].mean()\n",
    "\n",
    "median_price = df['price'].median()\n",
    "\n",
    "# Calculate the mode (most common) price\n",
    "mode_price = df['price'].mode()[0]\n",
    "\n",
    "print(\"Average price:\", average_price)\n",
    "print(\"Median price:\", median_price)\n",
    "print(\"Mode price:\", mode_price)\n"
   ]
  },
  {
   "cell_type": "markdown",
   "id": "87de9636",
   "metadata": {},
   "source": [
    "#### The most frequent (mode) sale price is $9.99. This value appears more frequently than any other price in the dataset."
   ]
  },
  {
   "cell_type": "markdown",
   "id": "a228bc71",
   "metadata": {},
   "source": [
    "#### Measures of Dispersion\n",
    "#### How varied are the product prices? Are there any indicators of a significant spread in prices?\n",
    "#### Determine the variance, standard deviation, range, and interquartile range for product price."
   ]
  },
  {
   "cell_type": "code",
   "execution_count": null,
   "id": "b9900e25",
   "metadata": {},
   "outputs": [],
   "source": [
    "variance_price = df['price'].var()\n",
    "std_dev_price = df['price'].std()\n",
    "min_price = df['price'].min()\n",
    "max_price = df['price'].max()\n",
    "range_price = max_price - min_price\n",
    "quantiles_price = df['price'].quantile([0.25, 0.5, 0.75])\n",
    "\n",
    "variance_price, std_dev_price, min_price, max_price, range_price, quantiles_price"
   ]
  },
  {
   "cell_type": "markdown",
   "id": "8f4419df",
   "metadata": {},
   "source": [
    "#### The variance, a measure of how far each sale price in the set is from the mean, is approximately (119.445). A high variance implies that sale prices can be quite different from one another.\n",
    "#### The range of sale prices is $100.000, calculated as the difference between the maximum and minimum prices. This wide range underscores the diversity in product prices within the dataset."
   ]
  },
  {
   "cell_type": "markdown",
   "id": "cc6fbe17",
   "metadata": {},
   "source": [
    "#### Is there a specific price range where most products fall? Plot a histogram to visualize the distribution of product prices. If its hard to read these diagrams, think why this is, and explain how it could be solved."
   ]
  },
  {
   "cell_type": "code",
   "execution_count": null,
   "id": "df3dff29",
   "metadata": {},
   "outputs": [],
   "source": [
    "skewness_price = df['price'].skew()\n",
    "kurtosis_price = df['price'].kurtosis()\n",
    "\n",
    "skewness_price, kurtosis_price"
   ]
  },
  {
   "cell_type": "code",
   "execution_count": null,
   "id": "2e4ea831",
   "metadata": {},
   "outputs": [],
   "source": [
    "sns.histplot(df['price'], kde=True, bins=30, color=\"salmon\")\n",
    "plt.xlabel('Price')\n",
    "plt.ylabel('Frequency')\n",
    "plt.title('Distribution of Product Prices')\n",
    "plt.show()"
   ]
  },
  {
   "cell_type": "code",
   "execution_count": null,
   "id": "e7691e4d",
   "metadata": {},
   "outputs": [],
   "source": [
    "sns.boxplot(data = df['price'], color=\"lightblue\")"
   ]
  },
  {
   "cell_type": "code",
   "execution_count": null,
   "id": "79905186",
   "metadata": {},
   "outputs": [],
   "source": [
    "# Calculate the mean, median, and mode for the rating of products.\n",
    "df['stars'].describe()"
   ]
  },
  {
   "cell_type": "code",
   "execution_count": null,
   "id": "7a64b079",
   "metadata": {},
   "outputs": [],
   "source": [
    "reviews_mean = df['stars'].mean()\n",
    "reviews_med = df['stars'].median()\n",
    "reviews_mode = df['stars'].mode()\n",
    "reviews_std = df['stars'].std()\n",
    "reviews_var = df['stars'].var()\n",
    "reviews_min = df['stars'].min()\n",
    "reviews_max = df['stars'].max()\n",
    "\n",
    "print(f'reviews std: {reviews_std}\\nreviews var: {reviews_var}\\nreviews min: {reviews_min}\\nreviews max: {reviews_max}')\n",
    "\n",
    "print(f\"reviews mean: {reviews_mean} \\nreviews median: {reviews_med} \\nreviews mode: {reviews_mode}\")"
   ]
  },
  {
   "cell_type": "code",
   "execution_count": null,
   "id": "a335dea4",
   "metadata": {},
   "outputs": [],
   "source": [
    "# How do customers generally rate products? Is there a common trend?\n",
    "Q1 = df['stars'].quantile(0.25)\n",
    "Q3 = df['stars'].quantile(0.75)\n",
    "\n",
    "\n",
    "print(f'{Q1}, {Q3}')"
   ]
  },
  {
   "cell_type": "code",
   "execution_count": null,
   "id": "ee333864",
   "metadata": {},
   "outputs": [],
   "source": [
    "review_skew=df['stars'].skew()\n",
    "review_kurt = df['stars'].kurtosis()\n",
    "\n",
    "print(f'Skewness: {review_skew}. Intepretation: Reviews(stars) distribution is moderately skewed positevely. It meanse that there are many outliers above mode affecting mean.\\nKurtosis: {review_kurt}. Interpretation: Negative kurtosis indicates flat distribution.')"
   ]
  },
  {
   "cell_type": "code",
   "execution_count": null,
   "id": "7af700b2",
   "metadata": {},
   "outputs": [],
   "source": [
    "ax=df.hist(column='stars', bins=25)"
   ]
  },
  {
   "cell_type": "code",
   "execution_count": null,
   "id": "383600e8",
   "metadata": {},
   "outputs": [],
   "source": [
    "#if users just skipped rating and that's why there's so many 0 star ratings then we can remove 0s\n",
    "\n",
    "df5=df[df['stars'] >0]"
   ]
  },
  {
   "cell_type": "code",
   "execution_count": null,
   "id": "4cd7b1d7",
   "metadata": {},
   "outputs": [],
   "source": [
    "ax2=df5.hist(column='stars', bins=25)"
   ]
  },
  {
   "cell_type": "code",
   "execution_count": null,
   "id": "da55136d",
   "metadata": {},
   "outputs": [],
   "source": [
    "review_skew2=df5['stars'].skew()\n",
    "review_kurt2 = df5['stars'].kurtosis()\n",
    "df5['stars'].describe()"
   ]
  },
  {
   "cell_type": "code",
   "execution_count": null,
   "id": "d343d15f",
   "metadata": {},
   "outputs": [],
   "source": [
    "print(f'Skewness without 0 ratings: {review_skew2}. Kurtosis without 0 ratings: {review_kurt2}')"
   ]
  },
  {
   "cell_type": "code",
   "execution_count": null,
   "id": "2667c7fc",
   "metadata": {},
   "outputs": [],
   "source": [
    "df"
   ]
  },
  {
   "cell_type": "code",
   "execution_count": null,
   "id": "d1430e7f",
   "metadata": {},
   "outputs": [],
   "source": []
  }
 ],
 "metadata": {
  "kernelspec": {
   "display_name": "Python 3 (ipykernel)",
   "language": "python",
   "name": "python3"
  },
  "language_info": {
   "codemirror_mode": {
    "name": "ipython",
    "version": 3
   },
   "file_extension": ".py",
   "mimetype": "text/x-python",
   "name": "python",
   "nbconvert_exporter": "python",
   "pygments_lexer": "ipython3",
   "version": "3.11.7"
  }
 },
 "nbformat": 4,
 "nbformat_minor": 5
}
